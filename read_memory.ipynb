{
 "cells": [
  {
   "cell_type": "markdown",
   "metadata": {},
   "source": [
    "# Introduction\n",
    "\n",
    "NOTE: You will need a physical network setup to run this code.\n",
    "\n",
    "`N0`: Control-type. Sends attestation requests to Nodes 1-5.\\\n",
    "`N1`: Sense-type. Generates floating point numbers in fixed ranges and sends them to N2.\\\n",
    "`N2`: Process-type. Processes the received values and generates the corresponding control signal for N3.\\\n",
    "`N3`: Control-type. Uses the received control signal to control output devices (LEDs for simplicity).\\\n",
    "`N4`: Sense-type. Generates floating point numbers in fixed ranges and sends them to N5.\\\n",
    "`N5`: Process and Control-type. Uses the received data to control output devices.\n",
    "\n",
    "The directed edges in the network creates an \"effect\" on subsequent nodes in the direction of communication, and each [N0, N1, N2, N3, N4, N5] SRAM sample represents the network state at a given instance.\\"
   ]
  },
  {
   "cell_type": "code",
   "execution_count": null,
   "metadata": {},
   "outputs": [],
   "source": [
    "import os\n",
    "import time\n",
    "import serial\n",
    "import random\n",
    "import pickle\n",
    "import argparse\n",
    "import numpy as np\n",
    "from tqdm.notebook import tqdm\n",
    "import matplotlib.pyplot as plt\n",
    "\n",
    "# inport the Network and Node classes, and helper functions\n",
    "from library import *"
   ]
  },
  {
   "cell_type": "code",
   "execution_count": null,
   "metadata": {},
   "outputs": [],
   "source": [
    "def read_serial(device):\n",
    "    \"\"\"\n",
    "    Reads the SRAM contents of a device\n",
    "\n",
    "    Parameters\n",
    "    ----------\n",
    "    device: Node \n",
    "        Node class object\n",
    "    Returns\n",
    "    -------\n",
    "    None\n",
    "    \"\"\"\n",
    "    trace = []\n",
    "    try:\n",
    "        for i in range(32):\n",
    "            line = device.serial.readline().decode('utf-8')[:-2]\n",
    "            if line[0] == '\\r':\n",
    "                for i in line[1:].split(' '):\n",
    "                    trace.append(int(i,16)) \n",
    "            else:\n",
    "                for i in line.split(' '):\n",
    "                    trace.append(int(i,16))\n",
    "    \n",
    "    except Exception as error:\n",
    "        print('Error: ', error)\n",
    "    \n",
    "    device.memory.append(trace)\n",
    "\n",
    "def collect_data(network,num_samples,filename,delay):\n",
    "    \"\"\"\n",
    "    Helper function to read data from a Network.\n",
    "\n",
    "    Parameters\n",
    "    ----------\n",
    "    network: Network \n",
    "        Network class object\n",
    "    num_samples: int\n",
    "        Number of samples to be collected.\n",
    "    filename: str\n",
    "        Name of the storage file.\n",
    "    delay: int\n",
    "        Attestation duration.\n",
    "    Returns\n",
    "    -------\n",
    "    None\n",
    "    \"\"\" \n",
    "    network.start()\n",
    "\n",
    "    # wait for the nodes to be ready\n",
    "    time.sleep(2)\n",
    "    for i in tqdm(range(num_samples)):\n",
    "        network.nodes[0].serial.write('r'.encode())\n",
    "        for i in network.nodes:\n",
    "            read_serial(i)\n",
    "        # change duration if necessary\n",
    "        time.sleep(delay)\n",
    "\n",
    "    network.stop()\n",
    "\n",
    "    network.memory_to_array()\n",
    "    network.get_golden_means()\n",
    "    \n",
    "    with open(f'./data/{filename}.pkl', 'wb') as outp: # change filename\n",
    "        pickle.dump(network, outp, pickle.HIGHEST_PROTOCOL)"
   ]
  },
  {
   "cell_type": "markdown",
   "metadata": {},
   "source": [
    "# Safe Networks\n",
    "\n",
    "Data on safe behavior is collected from two overall types of networks:\n",
    "1. `D1`,`D2`,`D3`,`D4` are `development datasets` that are colelcted from the same `development network` at different initializations. They are used for the following:\n",
    "    1. Analyse normal behavior\n",
    "    2. Train corresponding ML models\n",
    "    3. Test the performance on different initializations on the same device"
   ]
  },
  {
   "cell_type": "markdown",
   "metadata": {},
   "source": [
    "Development data"
   ]
  },
  {
   "cell_type": "code",
   "execution_count": null,
   "metadata": {},
   "outputs": [],
   "source": [
    "D = Network('D4', ['N0','N1','N2','N3','N4','N5'], ['COM3','COM9','COM10','COM11','COM13','COM12'], [195,438,490,394,430,446])\n",
    "collect_data(network=D, num_samples=1000, filename=D.name, delay=0.1)"
   ]
  },
  {
   "cell_type": "markdown",
   "metadata": {},
   "source": [
    "# Anomalous Networks\n",
    "\n",
    "The following node-level anomalies are introduced at one or more nodes in the network to create nine anomalous scenarios:\n",
    "\n",
    "`N0`: N0 sends an attestation signal to N1-N5. However, it has some added functionality.\\\n",
    "`N1`: N1 generates random flating point in a different range than normal behavior and sends them to N2.\\\n",
    "`N2`: N2 receives valid sense values from N1 but does not save/use them. Instead, it generates random control signals for N3.\\\n",
    "`N3`: N3 receives valid control signals from N2, but does not save/use them. Instead, it generates random output signals for its peripherals.\\\n",
    "`N4`: N4 generates correct data but does not send anything to N5.\\\n",
    "`N5`: N5 controls a different set of output devices."
   ]
  },
  {
   "cell_type": "markdown",
   "metadata": {},
   "source": [
    "`AN0`: Anomaly at N0"
   ]
  },
  {
   "cell_type": "code",
   "execution_count": null,
   "metadata": {},
   "outputs": [],
   "source": [
    "A = Network('AN0', ['N0','N1','N2','N3','N4','N5'], ['COM3','COM9','COM10','COM11','COM13','COM12'], [199,438,490,394,430,446])\n",
    "collect_data(network=A, num_samples=1000, filename=A.name, delay=0.1)"
   ]
  },
  {
   "cell_type": "markdown",
   "metadata": {},
   "source": [
    "`AN1`: Anomaly at N1"
   ]
  },
  {
   "cell_type": "code",
   "execution_count": null,
   "metadata": {},
   "outputs": [],
   "source": [
    "A = Network('AN1', ['N0','N1','N2','N3','N4','N5'], ['COM3','COM9','COM10','COM11','COM13','COM12'], [195,430,490,394,430,446])\n",
    "collect_data(network=A, num_samples=1000, filename=A.name, delay=0.1)"
   ]
  },
  {
   "cell_type": "markdown",
   "metadata": {},
   "source": [
    "`AN2`: Anomaly at N2"
   ]
  },
  {
   "cell_type": "code",
   "execution_count": null,
   "metadata": {},
   "outputs": [],
   "source": [
    "A = Network('AN2', ['N0','N1','N2','N3','N4','N5'], ['COM3','COM9','COM10','COM11','COM13','COM12'], [195,438,414,394,430,446])\n",
    "collect_data(network=A, num_samples=1000, filename=A.name, delay=0.1)"
   ]
  },
  {
   "cell_type": "markdown",
   "metadata": {},
   "source": [
    "`AN3`: Anomaly at N3"
   ]
  },
  {
   "cell_type": "code",
   "execution_count": null,
   "metadata": {},
   "outputs": [],
   "source": [
    "A = Network('AN3', ['N0','N1','N2','N3','N4','N5'], ['COM3','COM9','COM10','COM11','COM13','COM12'], [195,438,490,386,430,446])\n",
    "collect_data(network=A, num_samples=1000, filename=A.name, delay=0.1)"
   ]
  },
  {
   "cell_type": "markdown",
   "metadata": {},
   "source": [
    "`AN4`: Anomaly at N4"
   ]
  },
  {
   "cell_type": "code",
   "execution_count": null,
   "metadata": {},
   "outputs": [],
   "source": [
    "A = Network('AN4', ['N0','N1','N2','N3','N4','N5'], ['COM3','COM9','COM10','COM11','COM13','COM12'], [195,438,490,394,372,446])\n",
    "collect_data(network=A, num_samples=1000, filename=A.name, delay=0.1)"
   ]
  },
  {
   "cell_type": "markdown",
   "metadata": {},
   "source": [
    "`AN5`: Anomaly at N5"
   ]
  },
  {
   "cell_type": "code",
   "execution_count": null,
   "metadata": {},
   "outputs": [],
   "source": [
    "A = Network('AN5', ['N0','N1','N2','N3','N4','N5'], ['COM3','COM9','COM10','COM11','COM13','COM12'], [195,438,490,394,430,452])\n",
    "collect_data(network=A, num_samples=1000, filename=A.name, delay=0.1)"
   ]
  },
  {
   "cell_type": "markdown",
   "metadata": {},
   "source": [
    "# Compiled Data"
   ]
  },
  {
   "cell_type": "code",
   "execution_count": null,
   "metadata": {},
   "outputs": [],
   "source": [
    "networks = ['D1','D2','D3','D4','AN0','AN1','AN2','AN3','AN4','AN5'] # 10 scenarios\n",
    "swarm_attestation_dataset = {}\n",
    "for name in tqdm(networks):\n",
    "    with open(f'./raw-data/swarm-2/{name}.pkl','rb') as inp:\n",
    "        network = pickle.load(inp)\n",
    "        swarm_attestation_dataset[network.name] = {node.name:{'SRAM':node.memory[100:],'threshold':node.threshold} for node in network.nodes}\n",
    "    del network\n",
    "\n",
    "with open('/data/swarm-2.pkl','wb') as outp:\n",
    "    pickle.dump(swarm_attestation_dataset, outp, pickle.HIGHEST_PROTOCOL)\n",
    "del outp"
   ]
  }
 ],
 "metadata": {
  "kernelspec": {
   "display_name": "Python 3",
   "language": "python",
   "name": "python3"
  },
  "language_info": {
   "codemirror_mode": {
    "name": "ipython",
    "version": 3
   },
   "file_extension": ".py",
   "mimetype": "text/x-python",
   "name": "python",
   "nbconvert_exporter": "python",
   "pygments_lexer": "ipython3",
   "version": "3.12.4"
  }
 },
 "nbformat": 4,
 "nbformat_minor": 2
}
